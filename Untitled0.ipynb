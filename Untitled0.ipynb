{
  "nbformat": 4,
  "nbformat_minor": 0,
  "metadata": {
    "colab": {
      "name": "Untitled0.ipynb",
      "provenance": [],
      "authorship_tag": "ABX9TyOPU4tjzYt0nYprqahYdL6p",
      "include_colab_link": true
    },
    "kernelspec": {
      "name": "python3",
      "display_name": "Python 3"
    }
  },
  "cells": [
    {
      "cell_type": "markdown",
      "metadata": {
        "id": "view-in-github",
        "colab_type": "text"
      },
      "source": [
        "<a href=\"https://colab.research.google.com/github/mrslat-creator/google_co_lab/blob/main/Untitled0.ipynb\" target=\"_parent\"><img src=\"https://colab.research.google.com/assets/colab-badge.svg\" alt=\"Open In Colab\"/></a>"
      ]
    },
    {
      "cell_type": "code",
      "metadata": {
        "id": "eLwW4TLStg3m"
      },
      "source": [
        "import pandas"
      ],
      "execution_count": null,
      "outputs": []
    },
    {
      "cell_type": "code",
      "metadata": {
        "id": "5cm7LPI3tvWg"
      },
      "source": [
        "import citipy"
      ],
      "execution_count": null,
      "outputs": []
    },
    {
      "cell_type": "code",
      "metadata": {
        "colab": {
          "base_uri": "https://localhost:8080/"
        },
        "id": "n3It1bTOuEYv",
        "outputId": "85ee258c-56cc-4bdd-d444-deb57ef3b6e3"
      },
      "source": [
        "!pip install citipy"
      ],
      "execution_count": null,
      "outputs": [
        {
          "output_type": "stream",
          "text": [
            "Collecting citipy\n",
            "\u001b[?25l  Downloading https://files.pythonhosted.org/packages/3b/d0/59721d0f3954781488aac17ee4a40412d0a3547e98bb16377a09c39a2807/citipy-0.0.5.tar.gz (557kB)\n",
            "\r\u001b[K     |▋                               | 10kB 12.1MB/s eta 0:00:01\r\u001b[K     |█▏                              | 20kB 12.0MB/s eta 0:00:01\r\u001b[K     |█▊                              | 30kB 8.3MB/s eta 0:00:01\r\u001b[K     |██▍                             | 40kB 7.4MB/s eta 0:00:01\r\u001b[K     |███                             | 51kB 4.4MB/s eta 0:00:01\r\u001b[K     |███▌                            | 61kB 5.0MB/s eta 0:00:01\r\u001b[K     |████▏                           | 71kB 5.1MB/s eta 0:00:01\r\u001b[K     |████▊                           | 81kB 5.0MB/s eta 0:00:01\r\u001b[K     |█████▎                          | 92kB 5.0MB/s eta 0:00:01\r\u001b[K     |█████▉                          | 102kB 5.3MB/s eta 0:00:01\r\u001b[K     |██████▌                         | 112kB 5.3MB/s eta 0:00:01\r\u001b[K     |███████                         | 122kB 5.3MB/s eta 0:00:01\r\u001b[K     |███████▋                        | 133kB 5.3MB/s eta 0:00:01\r\u001b[K     |████████▎                       | 143kB 5.3MB/s eta 0:00:01\r\u001b[K     |████████▉                       | 153kB 5.3MB/s eta 0:00:01\r\u001b[K     |█████████▍                      | 163kB 5.3MB/s eta 0:00:01\r\u001b[K     |██████████                      | 174kB 5.3MB/s eta 0:00:01\r\u001b[K     |██████████▋                     | 184kB 5.3MB/s eta 0:00:01\r\u001b[K     |███████████▏                    | 194kB 5.3MB/s eta 0:00:01\r\u001b[K     |███████████▊                    | 204kB 5.3MB/s eta 0:00:01\r\u001b[K     |████████████▍                   | 215kB 5.3MB/s eta 0:00:01\r\u001b[K     |█████████████                   | 225kB 5.3MB/s eta 0:00:01\r\u001b[K     |█████████████▌                  | 235kB 5.3MB/s eta 0:00:01\r\u001b[K     |██████████████                  | 245kB 5.3MB/s eta 0:00:01\r\u001b[K     |██████████████▊                 | 256kB 5.3MB/s eta 0:00:01\r\u001b[K     |███████████████▎                | 266kB 5.3MB/s eta 0:00:01\r\u001b[K     |███████████████▉                | 276kB 5.3MB/s eta 0:00:01\r\u001b[K     |████████████████▌               | 286kB 5.3MB/s eta 0:00:01\r\u001b[K     |█████████████████               | 296kB 5.3MB/s eta 0:00:01\r\u001b[K     |█████████████████▋              | 307kB 5.3MB/s eta 0:00:01\r\u001b[K     |██████████████████▏             | 317kB 5.3MB/s eta 0:00:01\r\u001b[K     |██████████████████▉             | 327kB 5.3MB/s eta 0:00:01\r\u001b[K     |███████████████████▍            | 337kB 5.3MB/s eta 0:00:01\r\u001b[K     |████████████████████            | 348kB 5.3MB/s eta 0:00:01\r\u001b[K     |████████████████████▋           | 358kB 5.3MB/s eta 0:00:01\r\u001b[K     |█████████████████████▏          | 368kB 5.3MB/s eta 0:00:01\r\u001b[K     |█████████████████████▊          | 378kB 5.3MB/s eta 0:00:01\r\u001b[K     |██████████████████████▎         | 389kB 5.3MB/s eta 0:00:01\r\u001b[K     |███████████████████████         | 399kB 5.3MB/s eta 0:00:01\r\u001b[K     |███████████████████████▌        | 409kB 5.3MB/s eta 0:00:01\r\u001b[K     |████████████████████████        | 419kB 5.3MB/s eta 0:00:01\r\u001b[K     |████████████████████████▊       | 430kB 5.3MB/s eta 0:00:01\r\u001b[K     |█████████████████████████▎      | 440kB 5.3MB/s eta 0:00:01\r\u001b[K     |█████████████████████████▉      | 450kB 5.3MB/s eta 0:00:01\r\u001b[K     |██████████████████████████▍     | 460kB 5.3MB/s eta 0:00:01\r\u001b[K     |███████████████████████████     | 471kB 5.3MB/s eta 0:00:01\r\u001b[K     |███████████████████████████▋    | 481kB 5.3MB/s eta 0:00:01\r\u001b[K     |████████████████████████████▏   | 491kB 5.3MB/s eta 0:00:01\r\u001b[K     |████████████████████████████▉   | 501kB 5.3MB/s eta 0:00:01\r\u001b[K     |█████████████████████████████▍  | 512kB 5.3MB/s eta 0:00:01\r\u001b[K     |██████████████████████████████  | 522kB 5.3MB/s eta 0:00:01\r\u001b[K     |██████████████████████████████▌ | 532kB 5.3MB/s eta 0:00:01\r\u001b[K     |███████████████████████████████▏| 542kB 5.3MB/s eta 0:00:01\r\u001b[K     |███████████████████████████████▊| 552kB 5.3MB/s eta 0:00:01\r\u001b[K     |████████████████████████████████| 563kB 5.3MB/s \n",
            "\u001b[?25hCollecting kdtree>=0.12\n",
            "  Downloading https://files.pythonhosted.org/packages/00/3d/bd727d025b1706798aae14da3f69fc7d5a8639dc9e0eba37c7dcd43eb03e/kdtree-0.16-py2.py3-none-any.whl\n",
            "Building wheels for collected packages: citipy\n",
            "  Building wheel for citipy (setup.py) ... \u001b[?25l\u001b[?25hdone\n",
            "  Created wheel for citipy: filename=citipy-0.0.5-cp37-none-any.whl size=559702 sha256=db86944e91a6e1a06323eebdedbe14a1bc9d0375ba93b7e8bbdc2d1dac2c3243\n",
            "  Stored in directory: /root/.cache/pip/wheels/6f/07/0d/0392639cf1c10376f59decd06775c0e085ca2458c6036c1028\n",
            "Successfully built citipy\n",
            "Installing collected packages: kdtree, citipy\n",
            "Successfully installed citipy-0.0.5 kdtree-0.16\n"
          ],
          "name": "stdout"
        }
      ]
    }
  ]
}